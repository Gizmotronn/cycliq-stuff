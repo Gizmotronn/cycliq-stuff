{
 "cells": [
  {
   "cell_type": "code",
   "execution_count": 1,
   "id": "fewer-curtis",
   "metadata": {},
   "outputs": [],
   "source": [
    "import os"
   ]
  },
  {
   "cell_type": "code",
   "execution_count": 2,
   "id": "stone-stability",
   "metadata": {},
   "outputs": [],
   "source": [
    "import pandas as pd"
   ]
  },
  {
   "cell_type": "code",
   "execution_count": 3,
   "id": "powerful-cabinet",
   "metadata": {},
   "outputs": [],
   "source": [
    "import numpy as np"
   ]
  },
  {
   "cell_type": "code",
   "execution_count": 4,
   "id": "fluid-healing",
   "metadata": {},
   "outputs": [],
   "source": [
    "from numpy import loadtxt"
   ]
  },
  {
   "cell_type": "code",
   "execution_count": 5,
   "id": "consolidated-spanish",
   "metadata": {},
   "outputs": [
    {
     "name": "stdout",
     "output_type": "stream",
     "text": [
      "     MerchantId PlatformOrderId  ItemNumber  Total products  \\\n",
      "0        CYCLIQ           76848         1.0             3.0   \n",
      "1        CYCLIQ           76848         2.0             3.0   \n",
      "2        CYCLIQ           76848         3.0             3.0   \n",
      "3        CYCLIQ           76858         1.0             2.0   \n",
      "4        CYCLIQ           76858         2.0             2.0   \n",
      "...         ...             ...         ...             ...   \n",
      "1580     CYCLIQ           81595         2.0             3.0   \n",
      "1581     CYCLIQ           81595         3.0             3.0   \n",
      "1582     CYCLIQ           81600         1.0             1.0   \n",
      "1583        NaN             NaN         NaN             NaN   \n",
      "1584     CYCLIQ           80555         1.0             1.0   \n",
      "\n",
      "               BuyerEmailAddress         BuyerName   MerchantSku  Quantity  \\\n",
      "0     emmanuel.recinos@gmail.com  Emmanuel Recinos    FLY6-CE603         1   \n",
      "1     emmanuel.recinos@gmail.com  Emmanuel Recinos  CYCLSMSD32GB         1   \n",
      "2     emmanuel.recinos@gmail.com  Emmanuel Recinos   FLY12-CE122         1   \n",
      "3       syngwook.park@doosan.com     Syngwook Park  CYCLSMSD32GB         1   \n",
      "4       syngwook.park@doosan.com     Syngwook Park   FLY12-CE122         1   \n",
      "...                          ...               ...           ...       ...   \n",
      "1580           shaine@wildit.com       Shaine Wild  CYCLSMSD32GB         1   \n",
      "1581           shaine@wildit.com       Shaine Wild   FLY12-CE122         1   \n",
      "1582        woonpin.chong@me.com    Woon Pin Chong    FLY6-CE603         1   \n",
      "1583                         NaN               NaN           NaN      2059   \n",
      "1584         jhmaurice@gmail.com    Jeremy Maurice    FLY6-CE603         1   \n",
      "\n",
      "     Currency  ItemUnitPrice  ... Order Line Total Refunded  \\\n",
      "0         USD         206.10  ...                       0.0   \n",
      "1         USD           0.00  ...                       0.0   \n",
      "2         USD         147.00  ...                       0.0   \n",
      "3         USD           0.00  ...                       0.0   \n",
      "4         USD         147.00  ...                       0.0   \n",
      "...       ...            ...  ...                       ...   \n",
      "1580      AUD           0.00  ...                       0.0   \n",
      "1581      AUD         276.36  ...                       0.0   \n",
      "1582      SGD         299.00  ...                       0.0   \n",
      "1583      NaN            NaN  ...                       NaN   \n",
      "1584      USD         229.00  ...                       NaN   \n",
      "\n",
      "     Order Subtotal Amount Refunded Partial Shipment: Shipped Status  \\\n",
      "0                               0.0                          shipped   \n",
      "1                               0.0                      not-shipped   \n",
      "2                               0.0                      not-shipped   \n",
      "3                               0.0                      not-shipped   \n",
      "4                               0.0                      not-shipped   \n",
      "...                             ...                              ...   \n",
      "1580                            0.0                              NaN   \n",
      "1581                            0.0                              NaN   \n",
      "1582                            0.0                      not-shipped   \n",
      "1583                            NaN                              NaN   \n",
      "1584                            NaN                              NaN   \n",
      "\n",
      "     Partial Shipment: Total Qty. Partial Shipment: Shipped Qty.  \\\n",
      "0                             1.0                            1.0   \n",
      "1                             1.0                            0.0   \n",
      "2                             1.0                            0.0   \n",
      "3                             1.0                            0.0   \n",
      "4                             1.0                            0.0   \n",
      "...                           ...                            ...   \n",
      "1580                          NaN                            NaN   \n",
      "1581                          NaN                            NaN   \n",
      "1582                          1.0                            0.0   \n",
      "1583                          NaN                            NaN   \n",
      "1584                          NaN                            NaN   \n",
      "\n",
      "     Partial Shipment: Outstanding Qty. Payment Method Title Payment Method  \\\n",
      "0                                   0.0             Afterpay       afterpay   \n",
      "1                                   1.0             Afterpay       afterpay   \n",
      "2                                   1.0             Afterpay       afterpay   \n",
      "3                                   1.0          Credit Card         stripe   \n",
      "4                                   1.0          Credit Card         stripe   \n",
      "...                                 ...                  ...            ...   \n",
      "1580                                NaN               PayPal    ppec_paypal   \n",
      "1581                                NaN               PayPal    ppec_paypal   \n",
      "1582                                1.0          Credit Card         stripe   \n",
      "1583                                NaN                  NaN            NaN   \n",
      "1584                                NaN                  NaN            NaN   \n",
      "\n",
      "      Customer Role  Total items  \n",
      "0               NaN          3.0  \n",
      "1               NaN          3.0  \n",
      "2               NaN          3.0  \n",
      "3               NaN          2.0  \n",
      "4               NaN          2.0  \n",
      "...             ...          ...  \n",
      "1580            NaN          3.0  \n",
      "1581            NaN          3.0  \n",
      "1582            NaN          1.0  \n",
      "1583            NaN          NaN  \n",
      "1584            NaN          NaN  \n",
      "\n",
      "[1585 rows x 41 columns]\n",
      "   Unnamed: 0     COUNTRY      POP      AREA       GDP       CONT     IND_DAY\n",
      "0         CHN       China  1398.72   9596.96  12234.78       Asia         NaN\n",
      "1         IND       India  1351.16   3287.26   2575.67       Asia  1947-08-15\n",
      "2         USA          US   329.74   9833.52  19485.39  N.America  1776-07-04\n",
      "3         IDN   Indonesia   268.07   1910.93   1015.54       Asia  1945-08-17\n",
      "4         BRA      Brazil   210.32   8515.77   2055.51  S.America  1822-09-07\n",
      "5         PAK    Pakistan   205.71    881.91    302.14       Asia  1947-08-14\n",
      "6         NGA     Nigeria   200.96    923.77    375.77     Africa  1960-10-01\n",
      "7         BGD  Bangladesh   167.09    147.57    245.63       Asia  1971-03-26\n",
      "8         RUS      Russia   146.79  17098.25   1530.75        NaN  1992-06-12\n",
      "9         MEX      Mexico   126.58   1964.38   1158.23  N.America  1810-09-16\n",
      "10        JPN       Japan   126.22    377.97   4872.42       Asia         NaN\n",
      "11        DEU     Germany    83.02    357.11   3693.20     Europe         NaN\n",
      "12        FRA      France    67.02    640.68   2582.49     Europe  1789-07-14\n",
      "13        GBR          UK    66.44    242.50   2631.23     Europe         NaN\n",
      "14        ITA       Italy    60.36    301.34   1943.84     Europe         NaN\n",
      "15        ARG   Argentina    44.94   2780.40    637.49  S.America  1816-07-09\n",
      "16        DZA     Algeria    43.38   2381.74    167.56     Africa  1962-07-05\n",
      "17        CAN      Canada    37.59   9984.67   1647.12  N.America  1867-07-01\n",
      "18        AUS   Australia    25.47   7692.02   1408.68    Oceania         NaN\n",
      "19        KAZ  Kazakhstan    18.53   2724.90    159.41       Asia  1991-12-16\n"
     ]
    },
    {
     "ename": "FileNotFoundError",
     "evalue": "[Errno 2] No such file or directory: 'fr_FR.csv'",
     "output_type": "error",
     "traceback": [
      "\u001b[0;31m---------------------------------------------------------------------------\u001b[0m",
      "\u001b[0;31mFileNotFoundError\u001b[0m                         Traceback (most recent call last)",
      "\u001b[0;32m<ipython-input-5-55171b497e2a>\u001b[0m in \u001b[0;36m<module>\u001b[0;34m\u001b[0m\n\u001b[1;32m      2\u001b[0m     \u001b[0;32mfor\u001b[0m \u001b[0mfile\u001b[0m \u001b[0;32min\u001b[0m \u001b[0mfiles\u001b[0m\u001b[0;34m:\u001b[0m\u001b[0;34m\u001b[0m\u001b[0;34m\u001b[0m\u001b[0m\n\u001b[1;32m      3\u001b[0m        \u001b[0;32mif\u001b[0m \u001b[0mfile\u001b[0m\u001b[0;34m.\u001b[0m\u001b[0mendswith\u001b[0m\u001b[0;34m(\u001b[0m\u001b[0;34m\".csv\"\u001b[0m\u001b[0;34m)\u001b[0m\u001b[0;34m:\u001b[0m\u001b[0;34m\u001b[0m\u001b[0;34m\u001b[0m\u001b[0m\n\u001b[0;32m----> 4\u001b[0;31m         \u001b[0mf\u001b[0m\u001b[0;34m=\u001b[0m\u001b[0mopen\u001b[0m\u001b[0;34m(\u001b[0m\u001b[0mfile\u001b[0m\u001b[0;34m,\u001b[0m \u001b[0;34m'r'\u001b[0m\u001b[0;34m,\u001b[0m \u001b[0mencoding\u001b[0m\u001b[0;34m=\u001b[0m\u001b[0;34m'utf-8'\u001b[0m\u001b[0;34m)\u001b[0m\u001b[0;34m\u001b[0m\u001b[0;34m\u001b[0m\u001b[0m\n\u001b[0m\u001b[1;32m      5\u001b[0m         \u001b[0;31m#  perform calculation\u001b[0m\u001b[0;34m\u001b[0m\u001b[0;34m\u001b[0m\u001b[0;34m\u001b[0m\u001b[0m\n\u001b[1;32m      6\u001b[0m         \u001b[0mdatafile\u001b[0m \u001b[0;34m=\u001b[0m \u001b[0mpd\u001b[0m\u001b[0;34m.\u001b[0m\u001b[0mread_csv\u001b[0m\u001b[0;34m(\u001b[0m\u001b[0mf\u001b[0m\u001b[0;34m)\u001b[0m\u001b[0;34m\u001b[0m\u001b[0;34m\u001b[0m\u001b[0m\n",
      "\u001b[0;31mFileNotFoundError\u001b[0m: [Errno 2] No such file or directory: 'fr_FR.csv'"
     ]
    }
   ],
   "source": [
    "for root,dirs,files in os.walk('.', topdown=True):\n",
    "    for file in files:\n",
    "       if file.endswith(\".csv\"):\n",
    "        f=open(file, 'r', encoding='utf-8')\n",
    "        #  perform calculation\n",
    "        datafile = pd.read_csv(f)\n",
    "        print(datafile)\n",
    "        f.close()"
   ]
  },
  {
   "cell_type": "code",
   "execution_count": 6,
   "id": "comprehensive-identifier",
   "metadata": {},
   "outputs": [
    {
     "ename": "OSError",
     "evalue": "sku.txt not found.",
     "output_type": "error",
     "traceback": [
      "\u001b[0;31m---------------------------------------------------------------------------\u001b[0m",
      "\u001b[0;31mOSError\u001b[0m                                   Traceback (most recent call last)",
      "\u001b[0;32m<ipython-input-6-75cf8c3859af>\u001b[0m in \u001b[0;36m<module>\u001b[0;34m\u001b[0m\n\u001b[0;32m----> 1\u001b[0;31m \u001b[0mSkus\u001b[0m \u001b[0;34m=\u001b[0m \u001b[0mloadtxt\u001b[0m\u001b[0;34m(\u001b[0m\u001b[0;34m\"sku.txt\"\u001b[0m\u001b[0;34m,\u001b[0m \u001b[0mcomments\u001b[0m\u001b[0;34m=\u001b[0m\u001b[0;34m\"#\"\u001b[0m\u001b[0;34m,\u001b[0m \u001b[0mdelimiter\u001b[0m\u001b[0;34m=\u001b[0m\u001b[0;34m\",\"\u001b[0m\u001b[0;34m,\u001b[0m \u001b[0munpack\u001b[0m\u001b[0;34m=\u001b[0m\u001b[0;32mFalse\u001b[0m\u001b[0;34m,\u001b[0m \u001b[0mdtype\u001b[0m\u001b[0;34m=\u001b[0m\u001b[0mstr\u001b[0m\u001b[0;34m)\u001b[0m\u001b[0;34m\u001b[0m\u001b[0;34m\u001b[0m\u001b[0m\n\u001b[0m",
      "\u001b[0;32m~/workspace/cycliq-stuff/venv/lib/python3.8/site-packages/numpy/lib/npyio.py\u001b[0m in \u001b[0;36mloadtxt\u001b[0;34m(fname, dtype, comments, delimiter, converters, skiprows, usecols, unpack, ndmin, encoding, max_rows)\u001b[0m\n\u001b[1;32m    959\u001b[0m             \u001b[0mfname\u001b[0m \u001b[0;34m=\u001b[0m \u001b[0mos_fspath\u001b[0m\u001b[0;34m(\u001b[0m\u001b[0mfname\u001b[0m\u001b[0;34m)\u001b[0m\u001b[0;34m\u001b[0m\u001b[0;34m\u001b[0m\u001b[0m\n\u001b[1;32m    960\u001b[0m         \u001b[0;32mif\u001b[0m \u001b[0m_is_string_like\u001b[0m\u001b[0;34m(\u001b[0m\u001b[0mfname\u001b[0m\u001b[0;34m)\u001b[0m\u001b[0;34m:\u001b[0m\u001b[0;34m\u001b[0m\u001b[0;34m\u001b[0m\u001b[0m\n\u001b[0;32m--> 961\u001b[0;31m             \u001b[0mfh\u001b[0m \u001b[0;34m=\u001b[0m \u001b[0mnp\u001b[0m\u001b[0;34m.\u001b[0m\u001b[0mlib\u001b[0m\u001b[0;34m.\u001b[0m\u001b[0m_datasource\u001b[0m\u001b[0;34m.\u001b[0m\u001b[0mopen\u001b[0m\u001b[0;34m(\u001b[0m\u001b[0mfname\u001b[0m\u001b[0;34m,\u001b[0m \u001b[0;34m'rt'\u001b[0m\u001b[0;34m,\u001b[0m \u001b[0mencoding\u001b[0m\u001b[0;34m=\u001b[0m\u001b[0mencoding\u001b[0m\u001b[0;34m)\u001b[0m\u001b[0;34m\u001b[0m\u001b[0;34m\u001b[0m\u001b[0m\n\u001b[0m\u001b[1;32m    962\u001b[0m             \u001b[0mfencoding\u001b[0m \u001b[0;34m=\u001b[0m \u001b[0mgetattr\u001b[0m\u001b[0;34m(\u001b[0m\u001b[0mfh\u001b[0m\u001b[0;34m,\u001b[0m \u001b[0;34m'encoding'\u001b[0m\u001b[0;34m,\u001b[0m \u001b[0;34m'latin1'\u001b[0m\u001b[0;34m)\u001b[0m\u001b[0;34m\u001b[0m\u001b[0;34m\u001b[0m\u001b[0m\n\u001b[1;32m    963\u001b[0m             \u001b[0mfh\u001b[0m \u001b[0;34m=\u001b[0m \u001b[0miter\u001b[0m\u001b[0;34m(\u001b[0m\u001b[0mfh\u001b[0m\u001b[0;34m)\u001b[0m\u001b[0;34m\u001b[0m\u001b[0;34m\u001b[0m\u001b[0m\n",
      "\u001b[0;32m~/workspace/cycliq-stuff/venv/lib/python3.8/site-packages/numpy/lib/_datasource.py\u001b[0m in \u001b[0;36mopen\u001b[0;34m(path, mode, destpath, encoding, newline)\u001b[0m\n\u001b[1;32m    193\u001b[0m \u001b[0;34m\u001b[0m\u001b[0m\n\u001b[1;32m    194\u001b[0m     \u001b[0mds\u001b[0m \u001b[0;34m=\u001b[0m \u001b[0mDataSource\u001b[0m\u001b[0;34m(\u001b[0m\u001b[0mdestpath\u001b[0m\u001b[0;34m)\u001b[0m\u001b[0;34m\u001b[0m\u001b[0;34m\u001b[0m\u001b[0m\n\u001b[0;32m--> 195\u001b[0;31m     \u001b[0;32mreturn\u001b[0m \u001b[0mds\u001b[0m\u001b[0;34m.\u001b[0m\u001b[0mopen\u001b[0m\u001b[0;34m(\u001b[0m\u001b[0mpath\u001b[0m\u001b[0;34m,\u001b[0m \u001b[0mmode\u001b[0m\u001b[0;34m,\u001b[0m \u001b[0mencoding\u001b[0m\u001b[0;34m=\u001b[0m\u001b[0mencoding\u001b[0m\u001b[0;34m,\u001b[0m \u001b[0mnewline\u001b[0m\u001b[0;34m=\u001b[0m\u001b[0mnewline\u001b[0m\u001b[0;34m)\u001b[0m\u001b[0;34m\u001b[0m\u001b[0;34m\u001b[0m\u001b[0m\n\u001b[0m\u001b[1;32m    196\u001b[0m \u001b[0;34m\u001b[0m\u001b[0m\n\u001b[1;32m    197\u001b[0m \u001b[0;34m\u001b[0m\u001b[0m\n",
      "\u001b[0;32m~/workspace/cycliq-stuff/venv/lib/python3.8/site-packages/numpy/lib/_datasource.py\u001b[0m in \u001b[0;36mopen\u001b[0;34m(self, path, mode, encoding, newline)\u001b[0m\n\u001b[1;32m    533\u001b[0m                                       encoding=encoding, newline=newline)\n\u001b[1;32m    534\u001b[0m         \u001b[0;32melse\u001b[0m\u001b[0;34m:\u001b[0m\u001b[0;34m\u001b[0m\u001b[0;34m\u001b[0m\u001b[0m\n\u001b[0;32m--> 535\u001b[0;31m             \u001b[0;32mraise\u001b[0m \u001b[0mIOError\u001b[0m\u001b[0;34m(\u001b[0m\u001b[0;34m\"%s not found.\"\u001b[0m \u001b[0;34m%\u001b[0m \u001b[0mpath\u001b[0m\u001b[0;34m)\u001b[0m\u001b[0;34m\u001b[0m\u001b[0;34m\u001b[0m\u001b[0m\n\u001b[0m\u001b[1;32m    536\u001b[0m \u001b[0;34m\u001b[0m\u001b[0m\n\u001b[1;32m    537\u001b[0m \u001b[0;34m\u001b[0m\u001b[0m\n",
      "\u001b[0;31mOSError\u001b[0m: sku.txt not found."
     ]
    }
   ],
   "source": [
    "Skus = loadtxt(\"sku.txt\", comments=\"#\", delimiter=\",\", unpack=False, dtype=str)"
   ]
  },
  {
   "cell_type": "code",
   "execution_count": null,
   "id": "religious-aruba",
   "metadata": {},
   "outputs": [],
   "source": []
  }
 ],
 "metadata": {
  "kernelspec": {
   "display_name": "Python 3",
   "language": "python",
   "name": "python3"
  },
  "language_info": {
   "codemirror_mode": {
    "name": "ipython",
    "version": 3
   },
   "file_extension": ".py",
   "mimetype": "text/x-python",
   "name": "python",
   "nbconvert_exporter": "python",
   "pygments_lexer": "ipython3",
   "version": "3.8.5"
  }
 },
 "nbformat": 4,
 "nbformat_minor": 5
}
